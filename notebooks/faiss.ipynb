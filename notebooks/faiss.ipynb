{
 "cells": [
  {
   "cell_type": "code",
   "execution_count": 1,
   "metadata": {},
   "outputs": [],
   "source": [
    "import faiss\n",
    "import numpy as np"
   ]
  },
  {
   "cell_type": "code",
   "execution_count": 43,
   "metadata": {},
   "outputs": [
    {
     "name": "stdout",
     "output_type": "stream",
     "text": [
      "(1000, 128) \n",
      "\n",
      " [[0.68231803 0.672493   0.03956196 ... 0.2579528  0.4973178  0.12742965]\n",
      " [0.9183969  0.45814905 0.5569934  ... 0.4695651  0.7910698  0.5670189 ]\n",
      " [0.82816917 0.0675278  0.9924135  ... 0.280343   0.09878639 0.26395375]\n",
      " ...\n",
      " [0.8385078  0.6971204  0.05211771 ... 0.3526199  0.04197034 0.45220876]\n",
      " [0.41486168 0.84772927 0.712509   ... 0.68154246 0.624566   0.69358087]\n",
      " [0.33777028 0.44267955 0.4348719  ... 0.52701426 0.27906212 0.45661286]]\n"
     ]
    }
   ],
   "source": [
    "# Generate random data\n",
    "data = np.random.rand(1000, 128).astype('float32')\n",
    "print(data.shape, '\\n\\n', data)"
   ]
  },
  {
   "cell_type": "code",
   "execution_count": 44,
   "metadata": {},
   "outputs": [
    {
     "data": {
      "text/plain": [
       "<faiss.swigfaiss.IndexFlatL2; proxy of <Swig Object of type 'faiss::IndexFlatL2 *' at 0x000001BCFC636610> >"
      ]
     },
     "execution_count": 44,
     "metadata": {},
     "output_type": "execute_result"
    }
   ],
   "source": [
    "# Create an index\n",
    "index = faiss.IndexFlatL2(128)\n",
    "\n",
    "index"
   ]
  },
  {
   "cell_type": "code",
   "execution_count": 45,
   "metadata": {},
   "outputs": [],
   "source": [
    "# Add data to the index\n",
    "index.add(data)"
   ]
  },
  {
   "cell_type": "code",
   "execution_count": 46,
   "metadata": {},
   "outputs": [
    {
     "data": {
      "text/plain": [
       "1000"
      ]
     },
     "execution_count": 46,
     "metadata": {},
     "output_type": "execute_result"
    }
   ],
   "source": [
    "index.ntotal"
   ]
  },
  {
   "cell_type": "code",
   "execution_count": 47,
   "metadata": {},
   "outputs": [
    {
     "data": {
      "text/plain": [
       "array([[0.7883648 , 0.41136336, 0.9411829 , 0.4793632 , 0.47632456,\n",
       "        0.28983968, 0.04203349, 0.289745  , 0.732191  , 0.5562675 ,\n",
       "        0.75870293, 0.3889537 , 0.4016068 , 0.7716787 , 0.25878546,\n",
       "        0.04279917, 0.56189305, 0.13955125, 0.9904803 , 0.8158495 ,\n",
       "        0.2786525 , 0.57010424, 0.6887196 , 0.31815043, 0.32157892,\n",
       "        0.88693696, 0.87979895, 0.5991045 , 0.580945  , 0.644616  ,\n",
       "        0.56092095, 0.50649965, 0.9495719 , 0.9772402 , 0.23074982,\n",
       "        0.5430632 , 0.27663183, 0.23790276, 0.11169199, 0.05266745,\n",
       "        0.45226702, 0.8725337 , 0.45916864, 0.09133863, 0.42283416,\n",
       "        0.47331154, 0.50781566, 0.05439515, 0.93841547, 0.66182554,\n",
       "        0.9071043 , 0.7235043 , 0.22964306, 0.94322455, 0.66576266,\n",
       "        0.35312515, 0.12344145, 0.19621372, 0.22748429, 0.08112133,\n",
       "        0.63714504, 0.20912836, 0.659002  , 0.4967138 , 0.5027035 ,\n",
       "        0.8627106 , 0.81616676, 0.07222863, 0.9442593 , 0.1850456 ,\n",
       "        0.03661183, 0.37136742, 0.38819668, 0.96805155, 0.5176329 ,\n",
       "        0.70346147, 0.4369396 , 0.3888993 , 0.17739911, 0.42688334,\n",
       "        0.38299662, 0.7635035 , 0.2015926 , 0.35563853, 0.67923516,\n",
       "        0.0290253 , 0.61917996, 0.2723694 , 0.704024  , 0.05516324,\n",
       "        0.5332732 , 0.73529476, 0.48842275, 0.01456725, 0.80764616,\n",
       "        0.7721587 , 0.27292362, 0.11636079, 0.80308926, 0.864904  ,\n",
       "        0.9506236 , 0.8080852 , 0.18234234, 0.13836937, 0.9762193 ,\n",
       "        0.3372688 , 0.25866026, 0.22756007, 0.7440703 , 0.72654235,\n",
       "        0.78695005, 0.5803864 , 0.6293082 , 0.20565142, 0.28618032,\n",
       "        0.03079344, 0.6707105 , 0.9917504 , 0.16953674, 0.30916977,\n",
       "        0.01242066, 0.85380775, 0.6862236 , 0.10743382, 0.26736838,\n",
       "        0.865795  , 0.91882926, 0.85065913]], dtype=float32)"
      ]
     },
     "execution_count": 47,
     "metadata": {},
     "output_type": "execute_result"
    }
   ],
   "source": [
    "# Perform a similarity search\n",
    "query_vector = np.random.rand(1, 128).astype('float32')\n",
    "query_vector"
   ]
  },
  {
   "cell_type": "code",
   "execution_count": 48,
   "metadata": {},
   "outputs": [
    {
     "name": "stdout",
     "output_type": "stream",
     "text": [
      "[[15.230064 15.299754 15.325577 15.770106 15.788852]] \n",
      "\n",
      " [[548 141 881 945 559]]\n"
     ]
    }
   ],
   "source": [
    "k = 5  # Number of nearest neighbors to retrieve\n",
    "distances, indices = index.search(query_vector, k)\n",
    "\n",
    "print(distances, '\\n\\n', indices)"
   ]
  },
  {
   "cell_type": "code",
   "execution_count": 30,
   "metadata": {},
   "outputs": [
    {
     "name": "stdout",
     "output_type": "stream",
     "text": [
      "Nearest neighbors:\n",
      "Neighbor 1: Index 154, Distance 13.626096725463867\n",
      "Neighbor 2: Index 987, Distance 14.77947998046875\n",
      "Neighbor 3: Index 326, Distance 14.900426864624023\n",
      "Neighbor 4: Index 448, Distance 15.060054779052734\n",
      "Neighbor 5: Index 956, Distance 15.383966445922852\n"
     ]
    }
   ],
   "source": [
    "# Print the results\n",
    "print(\"Nearest neighbors:\")\n",
    "for i in range(k):\n",
    "    print(f\"Neighbor {i+1}: Index {indices[0][i]}, Distance {distances[0][i]}\")"
   ]
  },
  {
   "cell_type": "markdown",
   "metadata": {},
   "source": [
    "Using wrapper class IndexIDMap()"
   ]
  },
  {
   "cell_type": "code",
   "execution_count": 2,
   "metadata": {},
   "outputs": [],
   "source": [
    "import uuid\n",
    "import random\n",
    "import numpy as np"
   ]
  },
  {
   "cell_type": "code",
   "execution_count": null,
   "metadata": {},
   "outputs": [],
   "source": [
    "with open(\"../data/\")\n",
    "index_to_uuid = \n",
    "len(index_to_uuid)"
   ]
  },
  {
   "cell_type": "code",
   "execution_count": 3,
   "metadata": {},
   "outputs": [],
   "source": [
    "def uuid_to_integer(uuid_str):\n",
    "    uuid_obj = uuid.UUID(uuid_str)\n",
    "    return int(uuid_obj)"
   ]
  },
  {
   "cell_type": "code",
   "execution_count": 6,
   "metadata": {},
   "outputs": [
    {
     "data": {
      "text/plain": [
       "152995461970103006715204532270574363546"
      ]
     },
     "execution_count": 6,
     "metadata": {},
     "output_type": "execute_result"
    }
   ],
   "source": [
    "uuid.uuid4().int"
   ]
  },
  {
   "cell_type": "code",
   "execution_count": 31,
   "metadata": {},
   "outputs": [
    {
     "data": {
      "text/plain": [
       "180936446031768742176339095938439056364"
      ]
     },
     "execution_count": 31,
     "metadata": {},
     "output_type": "execute_result"
    }
   ],
   "source": [
    "uuid_str = uuid.uuid4().hex\n",
    "uuid_str\n",
    "uuid_int = int(uuid_str, 16)\n",
    "uuid_int"
   ]
  },
  {
   "cell_type": "code",
   "execution_count": 8,
   "metadata": {},
   "outputs": [
    {
     "name": "stdout",
     "output_type": "stream",
     "text": [
      "['31901521815047459272' '48129387037837680675' '83629329901949053646'\n",
      " '69650343604485036160']\n",
      "8999999999999999999\n"
     ]
    }
   ],
   "source": [
    "# Assuming you have data with ids, pdf_names, content, and content_vectors\n",
    "# Replace ta\n",
    "# hese with your actual data\n",
    "ids = np.array([])\n",
    "# [random.randint(1000000000000000000, 9999999999999999999) for _ in range(4)]\n",
    "pdf_names = np.array([\"document1.pdf\", \"document2.pdf\", \"document3.pdf\", \"document4.pdf\"])\n",
    "contents = np.array([\"Lorem ipsum...\", \"Some content...\", \"More text...\", \"Another document...\"])\n",
    "content_vectors = np.random.rand(4, 128).astype('float32')\n",
    "\n",
    "print(ids)\n",
    "print(9999999999999999999-1000000000000000000)"
   ]
  },
  {
   "cell_type": "code",
   "execution_count": 9,
   "metadata": {},
   "outputs": [
    {
     "data": {
      "text/plain": [
       "20"
      ]
     },
     "execution_count": 9,
     "metadata": {},
     "output_type": "execute_result"
    }
   ],
   "source": [
    "len(\"31901521815047459272\")"
   ]
  },
  {
   "cell_type": "code",
   "execution_count": 5,
   "metadata": {},
   "outputs": [
    {
     "data": {
      "text/plain": [
       "(4, 128)"
      ]
     },
     "execution_count": 5,
     "metadata": {},
     "output_type": "execute_result"
    }
   ],
   "source": [
    "content_vectors.shape"
   ]
  },
  {
   "cell_type": "code",
   "execution_count": 6,
   "metadata": {},
   "outputs": [
    {
     "name": "stdout",
     "output_type": "stream",
     "text": [
      "['31901521815047459272' '48129387037837680675' '83629329901949053646'\n",
      " '69650343604485036160'] <class 'numpy.ndarray'>\n"
     ]
    }
   ],
   "source": [
    "print(ids, type(ids))"
   ]
  },
  {
   "cell_type": "code",
   "execution_count": 7,
   "metadata": {},
   "outputs": [
    {
     "ename": "OverflowError",
     "evalue": "int too big to convert",
     "output_type": "error",
     "traceback": [
      "\u001b[1;31m---------------------------------------------------------------------------\u001b[0m",
      "\u001b[1;31mOverflowError\u001b[0m                             Traceback (most recent call last)",
      "Cell \u001b[1;32mIn[7], line 5\u001b[0m\n\u001b[0;32m      2\u001b[0m index \u001b[38;5;241m=\u001b[39m faiss\u001b[38;5;241m.\u001b[39mIndexIDMap(faiss\u001b[38;5;241m.\u001b[39mIndexFlatL2(\u001b[38;5;241m128\u001b[39m))\n\u001b[0;32m      4\u001b[0m \u001b[38;5;66;03m# Add data to the index\u001b[39;00m\n\u001b[1;32m----> 5\u001b[0m \u001b[43mindex\u001b[49m\u001b[38;5;241;43m.\u001b[39;49m\u001b[43madd_with_ids\u001b[49m\u001b[43m(\u001b[49m\u001b[43mcontent_vectors\u001b[49m\u001b[43m,\u001b[49m\u001b[43m \u001b[49m\u001b[43mids\u001b[49m\u001b[43m)\u001b[49m\n",
      "File \u001b[1;32mc:\\Users\\UtkarshVerma\\Desktop\\ct_miner_ml_os\\venv_ct_miner_ml_os\\lib\\site-packages\\faiss\\class_wrappers.py:249\u001b[0m, in \u001b[0;36mhandle_Index.<locals>.replacement_add_with_ids\u001b[1;34m(self, x, ids)\u001b[0m\n\u001b[0;32m    247\u001b[0m \u001b[38;5;28;01massert\u001b[39;00m d \u001b[38;5;241m==\u001b[39m \u001b[38;5;28mself\u001b[39m\u001b[38;5;241m.\u001b[39md\n\u001b[0;32m    248\u001b[0m x \u001b[38;5;241m=\u001b[39m np\u001b[38;5;241m.\u001b[39mascontiguousarray(x, dtype\u001b[38;5;241m=\u001b[39m\u001b[38;5;124m'\u001b[39m\u001b[38;5;124mfloat32\u001b[39m\u001b[38;5;124m'\u001b[39m)\n\u001b[1;32m--> 249\u001b[0m ids \u001b[38;5;241m=\u001b[39m \u001b[43mnp\u001b[49m\u001b[38;5;241;43m.\u001b[39;49m\u001b[43mascontiguousarray\u001b[49m\u001b[43m(\u001b[49m\u001b[43mids\u001b[49m\u001b[43m,\u001b[49m\u001b[43m \u001b[49m\u001b[43mdtype\u001b[49m\u001b[38;5;241;43m=\u001b[39;49m\u001b[38;5;124;43m'\u001b[39;49m\u001b[38;5;124;43mint64\u001b[39;49m\u001b[38;5;124;43m'\u001b[39;49m\u001b[43m)\u001b[49m\n\u001b[0;32m    250\u001b[0m \u001b[38;5;28;01massert\u001b[39;00m ids\u001b[38;5;241m.\u001b[39mshape \u001b[38;5;241m==\u001b[39m (n, ), \u001b[38;5;124m'\u001b[39m\u001b[38;5;124mnot same nb of vectors as ids\u001b[39m\u001b[38;5;124m'\u001b[39m\n\u001b[0;32m    251\u001b[0m \u001b[38;5;28mself\u001b[39m\u001b[38;5;241m.\u001b[39madd_with_ids_c(n, swig_ptr(x), swig_ptr(ids))\n",
      "\u001b[1;31mOverflowError\u001b[0m: int too big to convert"
     ]
    }
   ],
   "source": [
    "# Create an index with an ID map\n",
    "index = faiss.IndexIDMap(faiss.IndexFlatL2(128))\n",
    "\n",
    "# Add data to the index\n",
    "index.add_with_ids(content_vectors, ids)"
   ]
  },
  {
   "cell_type": "code",
   "execution_count": 76,
   "metadata": {},
   "outputs": [
    {
     "data": {
      "text/plain": [
       "4"
      ]
     },
     "execution_count": 76,
     "metadata": {},
     "output_type": "execute_result"
    }
   ],
   "source": [
    "index.ntotal"
   ]
  },
  {
   "cell_type": "code",
   "execution_count": 64,
   "metadata": {},
   "outputs": [
    {
     "data": {
      "text/plain": [
       "array([[0.6366048 , 0.93784165, 0.9124456 , 0.97283703, 0.68820465,\n",
       "        0.02372937, 0.7721488 , 0.58758307, 0.5522444 , 0.75899285,\n",
       "        0.01946464, 0.28351074, 0.68345416, 0.883433  , 0.46650502,\n",
       "        0.7660906 , 0.5268666 , 0.561976  , 0.12070926, 0.60223705,\n",
       "        0.38173473, 0.0785682 , 0.22157276, 0.10268464, 0.80028266,\n",
       "        0.747212  , 0.46652105, 0.3438265 , 0.03773617, 0.32861012,\n",
       "        0.47929502, 0.45830628, 0.6758675 , 0.52527815, 0.05083382,\n",
       "        0.10023683, 0.60241264, 0.50144666, 0.77939206, 0.8419433 ,\n",
       "        0.5986357 , 0.9484357 , 0.70691556, 0.5732267 , 0.849358  ,\n",
       "        0.71512735, 0.66208935, 0.75337553, 0.4227825 , 0.4569677 ,\n",
       "        0.85512555, 0.90606177, 0.24346267, 0.55773   , 0.01029735,\n",
       "        0.32267365, 0.32378623, 0.7280866 , 0.14991273, 0.0113767 ,\n",
       "        0.6550192 , 0.9749685 , 0.5131942 , 0.20251061, 0.9371011 ,\n",
       "        0.90294397, 0.08195505, 0.300796  , 0.47309244, 0.4844724 ,\n",
       "        0.76858646, 0.86672425, 0.8846436 , 0.749771  , 0.26890212,\n",
       "        0.7737021 , 0.6917643 , 0.933477  , 0.92601585, 0.45034903,\n",
       "        0.88689184, 0.12098314, 0.5833537 , 0.619579  , 0.9414441 ,\n",
       "        0.03888871, 0.08605412, 0.15078282, 0.48218927, 0.36700973,\n",
       "        0.32675517, 0.50851846, 0.32137778, 0.78876454, 0.67827475,\n",
       "        0.4604349 , 0.05494834, 0.15259056, 0.5986334 , 0.7671665 ,\n",
       "        0.43240768, 0.7529396 , 0.23972465, 0.04323211, 0.26982513,\n",
       "        0.799285  , 0.30039918, 0.9553703 , 0.04928652, 0.42131776,\n",
       "        0.9943437 , 0.13224702, 0.69721293, 0.9525251 , 0.87903184,\n",
       "        0.86772597, 0.16211885, 0.9891624 , 0.501494  , 0.3650335 ,\n",
       "        0.89387727, 0.69439   , 0.76031375, 0.32674545, 0.1321106 ,\n",
       "        0.08153071, 0.713997  , 0.49158046]], dtype=float32)"
      ]
     },
     "execution_count": 64,
     "metadata": {},
     "output_type": "execute_result"
    }
   ],
   "source": [
    "# Now you can perform similarity search based on vectors\n",
    "query_vector = np.random.rand(128).astype('float32')\n",
    "\n",
    "query_vector.reshape(1, -1)"
   ]
  },
  {
   "cell_type": "code",
   "execution_count": 65,
   "metadata": {},
   "outputs": [],
   "source": [
    "k = 2  # Number of nearest neighbors\n",
    "distances, neighbors = index.search(query_vector.reshape(1, -1), k)"
   ]
  },
  {
   "cell_type": "code",
   "execution_count": 66,
   "metadata": {},
   "outputs": [
    {
     "name": "stdout",
     "output_type": "stream",
     "text": [
      "[[19.132317 20.620216]] \n",
      "\n",
      " [[50362476835 58841892270]]\n"
     ]
    }
   ],
   "source": [
    "print(distances, '\\n\\n', neighbors)"
   ]
  },
  {
   "cell_type": "code",
   "execution_count": 101,
   "metadata": {},
   "outputs": [
    {
     "data": {
      "text/plain": [
       "array([2, 3], dtype=int64)"
      ]
     },
     "execution_count": 101,
     "metadata": {},
     "output_type": "execute_result"
    }
   ],
   "source": [
    "neighbors[0]"
   ]
  },
  {
   "cell_type": "code",
   "execution_count": 102,
   "metadata": {},
   "outputs": [
    {
     "name": "stdout",
     "output_type": "stream",
     "text": [
      "Top IDs: [2 3]\n",
      "Top PDF Names: ['document3.pdf' 'document4.pdf']\n",
      "Top Contents: ['More text...' 'Another document...']\n"
     ]
    }
   ],
   "source": [
    "# Access metadata for the top neighbors\n",
    "top_ids = neighbors[0]\n",
    "top_pdf_names = pdf_names[top_ids]\n",
    "top_contents = contents[top_ids]\n",
    "\n",
    "print(\"Top IDs:\", top_ids)\n",
    "print(\"Top PDF Names:\", top_pdf_names)\n",
    "print(\"Top Contents:\", top_contents)"
   ]
  },
  {
   "cell_type": "code",
   "execution_count": 90,
   "metadata": {},
   "outputs": [
    {
     "name": "stdout",
     "output_type": "stream",
     "text": [
      "['document3.pdf' 'document2.pdf' 'document4.pdf' 'document1.pdf']\n"
     ]
    }
   ],
   "source": [
    "# just for illustration purpose\n",
    "pdf_names = np.array([\"document1.pdf\", \"document2.pdf\", \"document3.pdf\", \"document4.pdf\"])\n",
    "selected_pdf_names = pdf_names[[2, 1, 3, 0]]\n",
    "\n",
    "print(selected_pdf_names)"
   ]
  },
  {
   "cell_type": "markdown",
   "metadata": {},
   "source": [
    "utilizing metadata"
   ]
  },
  {
   "cell_type": "code",
   "execution_count": 35,
   "metadata": {},
   "outputs": [],
   "source": [
    "# Assuming you have data with ids, pdf_names, content, and content_vectors\n",
    "# Replace these with your actual data\n",
    "ids = np.array([\"0\", \"1\", \"2\", \"3\"])\n",
    "pdf_names = np.array([\"document1.pdf\", \"document2.pdf\", \"document3.pdf\", \"document4.pdf\"])\n",
    "contents = np.array([\"Lorem ipsum...\", \"Some content...\", \"More text...\", \"Another document...\"])\n",
    "content_vectors = np.random.rand(4, 128).astype('float32')\n",
    "\n",
    "# Create an index with an ID map\n",
    "index = faiss.IndexIDMap(faiss.IndexFlatL2(128))\n",
    "\n",
    "# Add data to the index\n",
    "index.add_with_ids(content_vectors, ids)\n"
   ]
  },
  {
   "cell_type": "code",
   "execution_count": 36,
   "metadata": {},
   "outputs": [
    {
     "data": {
      "text/plain": [
       "0"
      ]
     },
     "execution_count": 36,
     "metadata": {},
     "output_type": "execute_result"
    }
   ],
   "source": [
    "index.ntotal"
   ]
  },
  {
   "cell_type": "code",
   "execution_count": 5,
   "metadata": {},
   "outputs": [
    {
     "data": {
      "text/plain": [
       "{'0': {'pdf_name': 'document1.pdf', 'content': 'Lorem ipsum...'},\n",
       " '1': {'pdf_name': 'document2.pdf', 'content': 'Some content...'},\n",
       " '2': {'pdf_name': 'document3.pdf', 'content': 'More text...'},\n",
       " '3': {'pdf_name': 'document4.pdf', 'content': 'Another document...'}}"
      ]
     },
     "execution_count": 5,
     "metadata": {},
     "output_type": "execute_result"
    }
   ],
   "source": [
    "# Create a metadata dictionary to store content and pdf_names\n",
    "metadata = {id: {'pdf_name': pdf_name, 'content': content} for id, pdf_name, content in zip(ids, pdf_names, contents)}\n",
    "\n",
    "metadata"
   ]
  },
  {
   "cell_type": "code",
   "execution_count": 6,
   "metadata": {},
   "outputs": [],
   "source": [
    "# Perform similarity search\n",
    "query_vector = np.random.rand(128).astype('float32')\n",
    "k = 3  # Number of nearest neighbors\n",
    "distances, neighbors = index.search(query_vector.reshape(1, -1), k)"
   ]
  },
  {
   "cell_type": "code",
   "execution_count": 7,
   "metadata": {},
   "outputs": [
    {
     "data": {
      "text/plain": [
       "array([0.05836474, 0.21127205, 0.49519885, 0.28718567, 0.9235771 ,\n",
       "       0.16406272, 0.33702028, 0.13646674, 0.9895277 , 0.46299663,\n",
       "       0.27912527, 0.0666471 , 0.28890687, 0.01501042, 0.6818322 ,\n",
       "       0.8926095 , 0.12463351, 0.84303   , 0.7116783 , 0.33055183,\n",
       "       0.41794163, 0.11810032, 0.09094615, 0.20593594, 0.57114595,\n",
       "       0.82305217, 0.7836236 , 0.03082706, 0.6476728 , 0.29392973,\n",
       "       0.394905  , 0.7680704 , 0.6378382 , 0.0501974 , 0.5268558 ,\n",
       "       0.96009505, 0.85917515, 0.4694897 , 0.20646133, 0.34803727,\n",
       "       0.45567253, 0.79031056, 0.03574383, 0.4732567 , 0.845975  ,\n",
       "       0.37967634, 0.3652112 , 0.73336965, 0.25416017, 0.46735397,\n",
       "       0.9836752 , 0.41234314, 0.43725112, 0.37731108, 0.55959815,\n",
       "       0.73756266, 0.3734922 , 0.5932459 , 0.40928006, 0.7762083 ,\n",
       "       0.14701259, 0.60498774, 0.90800667, 0.11148183, 0.25173268,\n",
       "       0.08770949, 0.5693294 , 0.77718776, 0.7062066 , 0.04542087,\n",
       "       0.46582213, 0.10674249, 0.9423862 , 0.47272992, 0.88635397,\n",
       "       0.5091638 , 0.00892486, 0.5910102 , 0.97987455, 0.13793905,\n",
       "       0.14871831, 0.42932788, 0.20649701, 0.6354838 , 0.6686989 ,\n",
       "       0.22464688, 0.52156883, 0.16395551, 0.31651163, 0.6800666 ,\n",
       "       0.8743813 , 0.30497587, 0.00887543, 0.8484764 , 0.9711008 ,\n",
       "       0.74869806, 0.7254512 , 0.10790069, 0.7918484 , 0.9290895 ,\n",
       "       0.49118653, 0.27059346, 0.13558915, 0.7256565 , 0.85813546,\n",
       "       0.9989256 , 0.5360544 , 0.40708014, 0.2712002 , 0.10434402,\n",
       "       0.53654367, 0.57123953, 0.7749854 , 0.06334437, 0.7453602 ,\n",
       "       0.30860454, 0.63114196, 0.8728241 , 0.7756162 , 0.5670243 ,\n",
       "       0.09302694, 0.0347892 , 0.8428216 , 0.37941396, 0.2401007 ,\n",
       "       0.67277336, 0.8394319 , 0.23324135], dtype=float32)"
      ]
     },
     "execution_count": 7,
     "metadata": {},
     "output_type": "execute_result"
    }
   ],
   "source": [
    "query_vector"
   ]
  },
  {
   "cell_type": "code",
   "execution_count": 24,
   "metadata": {},
   "outputs": [
    {
     "name": "stdout",
     "output_type": "stream",
     "text": [
      "ID: 2, PDF Name: document3.pdf, Content: More text...\n",
      "ID: 3, PDF Name: document4.pdf, Content: Another document...\n",
      "ID: 1, PDF Name: document2.pdf, Content: Some content...\n"
     ]
    }
   ],
   "source": [
    "# Retrieve and print metadata for the top neighbors\n",
    "top_ids = neighbors[0]\n",
    "for id in top_ids:\n",
    "    metadata_entry = metadata[f\"{id}\"]\n",
    "    print(f\"ID: {id}, PDF Name: {metadata_entry['pdf_name']}, Content: {metadata_entry['content']}\")"
   ]
  },
  {
   "cell_type": "markdown",
   "metadata": {},
   "source": [
    "trying to save and load index"
   ]
  },
  {
   "cell_type": "code",
   "execution_count": 7,
   "metadata": {},
   "outputs": [],
   "source": [
    "import faiss\n",
    "import json"
   ]
  },
  {
   "cell_type": "code",
   "execution_count": 18,
   "metadata": {},
   "outputs": [],
   "source": [
    "def create_index(vector_size):\n",
    "    id_map_index = faiss.IndexIDMap(faiss.IndexFlatL2(vector_size))\n",
    "    return id_map_index\n",
    "    \n",
    "def save_index(index, index_path):\n",
    "    try:\n",
    "        faiss.write_index(index, index_path)\n",
    "        return True\n",
    "    except:\n",
    "        return False\n",
    "    \n",
    "def load_index(index_path):\n",
    "    id_map_index = faiss.read_index(index_path)\n",
    "    return id_map_index"
   ]
  },
  {
   "cell_type": "code",
   "execution_count": 19,
   "metadata": {},
   "outputs": [],
   "source": [
    "id_map_index_c500 = create_index(768)"
   ]
  },
  {
   "cell_type": "code",
   "execution_count": 20,
   "metadata": {},
   "outputs": [
    {
     "data": {
      "text/plain": [
       "True"
      ]
     },
     "execution_count": 20,
     "metadata": {},
     "output_type": "execute_result"
    }
   ],
   "source": [
    "save_index(id_map_index_c500, \"../faiss_index/id_map_index_c500.faiss\")"
   ]
  },
  {
   "cell_type": "code",
   "execution_count": 5,
   "metadata": {},
   "outputs": [
    {
     "data": {
      "text/plain": [
       "<faiss.swigfaiss.IndexIDMap; proxy of <Swig Object of type 'faiss::IndexIDMapTemplate< faiss::Index > *' at 0x000002398771CE40> >"
      ]
     },
     "execution_count": 5,
     "metadata": {},
     "output_type": "execute_result"
    }
   ],
   "source": [
    "id_map_index_c500 = load_index(\"../faiss_index/id_map_index_c500.faiss\")\n",
    "\n",
    "id_map_index_c500"
   ]
  },
  {
   "cell_type": "code",
   "execution_count": 6,
   "metadata": {},
   "outputs": [
    {
     "data": {
      "text/plain": [
       "0"
      ]
     },
     "execution_count": 6,
     "metadata": {},
     "output_type": "execute_result"
    }
   ],
   "source": [
    "id_map_index_c500.ntotal"
   ]
  },
  {
   "cell_type": "code",
   "execution_count": 25,
   "metadata": {},
   "outputs": [],
   "source": [
    "import faiss\n",
    "import numpy as np\n",
    "import json\n",
    "\n",
    "class Faiss:\n",
    "    def __init__(self):\n",
    "        self.index_path = \"../faiss_index/id_map_index_c500.faiss\"\n",
    "\n",
    "    def create_index(self, vector_size):\n",
    "        index = faiss.IndexIDMap(faiss.IndexFlatL2(vector_size))\n",
    "\n",
    "        return index\n",
    "    \n",
    "    def save_index(self, index):\n",
    "        try:\n",
    "            faiss.write_index(index, self.index_path)\n",
    "            return True\n",
    "        except:\n",
    "            return False\n",
    "        \n",
    "    def load_index(self):\n",
    "        index = faiss.read_index(self.index_path)\n",
    "\n",
    "        return index\n",
    "    \n",
    "    def append_index(self, id, pdf_name):\n",
    "        print(f\"id {id} loading index\") # print\n",
    "\n",
    "        index = self.load_index()\n",
    "\n",
    "        print(f\"id {id} index loaded\") # print\n",
    "\n",
    "        with open(f\"../data/chunked_embedded_pdfs/{id}.json\", \"r\") as file:\n",
    "            chunked_embedded_pdf = json.load(file)\n",
    "\n",
    "        print(f\"id {id} chunked_embedded_pdf read!\") # print\n",
    "\n",
    "        pdf_content_vector = chunked_embedded_pdf[\"pdf_content_vector\"]\n",
    "\n",
    "        ids = []\n",
    "\n",
    "        for count in range(len(pdf_content_vector)):\n",
    "            ids.append(f\"{id}_{count}\")  \n",
    "\n",
    "        print(\"checking if len(ids) != len(pdf_content_vector)\") # print\n",
    "\n",
    "        if len(ids) != len(pdf_content_vector):\n",
    "            return False\n",
    "\n",
    "        print(\"converting ids and pdf_content_vector to np.array!\") # print\n",
    "\n",
    "        ids = np.array(ids)\n",
    "        pdf_content_vector = np.array(pdf_content_vector)\n",
    "\n",
    "        print(\"ids\", ids, type(ids))\n",
    "        # print(\"pdf_content_vector\", pdf_content_vector)\n",
    "\n",
    "        try:\n",
    "            print(\"populating index with chunks\") # print\n",
    "\n",
    "            index.add_with_ids(pdf_content_vector, ids)\n",
    "\n",
    "            print(\"populating index SUCCESSFUL, now saving index!!\") # print\n",
    "\n",
    "            result = self.save_index(index)\n",
    "\n",
    "            if result:\n",
    "                print(\"saving index successful\") # print\n",
    "                return pdf_name\n",
    "            else:\n",
    "                return False\n",
    "        except Exception as e:\n",
    "            print(e)\n",
    "            return False\n",
    "        \n",
    "    def search_index(self, conversation_id, embedded_query, k):\n",
    "        index = self.load_index(self, self.index_path)\n",
    "\n",
    "        distances, neighbors = index.search(embedded_query.reshape(1, -1), k)\n",
    "\n",
    "        top_ids = neighbors[0]\n",
    "\n",
    "        return top_ids\n",
    "    \n",
    "    def get_context(self, conversation_id, top_ids):\n",
    "        context = []\n",
    "\n",
    "        for top_id in top_ids:\n",
    "            id = top_id.split(\"_\")[0]\n",
    "            chunk_id = top_id.split(\"_\")[1]\n",
    "\n",
    "            with open(f\"../data/chunked_embedded_pdfs/{id}.json\", \"r\") as file:\n",
    "                chunked_embedded_pdf = json.load(file)\n",
    "\n",
    "            context.append(chunked_embedded_pdf[\"pdf_content\"][chunk_id])\n",
    "\n",
    "        return context\n"
   ]
  },
  {
   "cell_type": "code",
   "execution_count": 26,
   "metadata": {},
   "outputs": [],
   "source": [
    "fiass = Faiss()"
   ]
  },
  {
   "cell_type": "code",
   "execution_count": 27,
   "metadata": {},
   "outputs": [
    {
     "name": "stdout",
     "output_type": "stream",
     "text": [
      "id 75d494fbc3534eea837af24dd6d9f8b9 loading index\n",
      "id 75d494fbc3534eea837af24dd6d9f8b9 index loaded\n",
      "id 75d494fbc3534eea837af24dd6d9f8b9 chunked_embedded_pdf read!\n",
      "checking if len(ids) != len(pdf_content_vector)\n",
      "converting ids and pdf_content_vector to np.array!\n",
      "ids ['75d494fbc3534eea837af24dd6d9f8b9_0' '75d494fbc3534eea837af24dd6d9f8b9_1'\n",
      " '75d494fbc3534eea837af24dd6d9f8b9_2' '75d494fbc3534eea837af24dd6d9f8b9_3'\n",
      " '75d494fbc3534eea837af24dd6d9f8b9_4' '75d494fbc3534eea837af24dd6d9f8b9_5'\n",
      " '75d494fbc3534eea837af24dd6d9f8b9_6' '75d494fbc3534eea837af24dd6d9f8b9_7'\n",
      " '75d494fbc3534eea837af24dd6d9f8b9_8' '75d494fbc3534eea837af24dd6d9f8b9_9'\n",
      " '75d494fbc3534eea837af24dd6d9f8b9_10'\n",
      " '75d494fbc3534eea837af24dd6d9f8b9_11'\n",
      " '75d494fbc3534eea837af24dd6d9f8b9_12'\n",
      " '75d494fbc3534eea837af24dd6d9f8b9_13'\n",
      " '75d494fbc3534eea837af24dd6d9f8b9_14'\n",
      " '75d494fbc3534eea837af24dd6d9f8b9_15'\n",
      " '75d494fbc3534eea837af24dd6d9f8b9_16'\n",
      " '75d494fbc3534eea837af24dd6d9f8b9_17'\n",
      " '75d494fbc3534eea837af24dd6d9f8b9_18'\n",
      " '75d494fbc3534eea837af24dd6d9f8b9_19'\n",
      " '75d494fbc3534eea837af24dd6d9f8b9_20'\n",
      " '75d494fbc3534eea837af24dd6d9f8b9_21'\n",
      " '75d494fbc3534eea837af24dd6d9f8b9_22'\n",
      " '75d494fbc3534eea837af24dd6d9f8b9_23'\n",
      " '75d494fbc3534eea837af24dd6d9f8b9_24'\n",
      " '75d494fbc3534eea837af24dd6d9f8b9_25'\n",
      " '75d494fbc3534eea837af24dd6d9f8b9_26'\n",
      " '75d494fbc3534eea837af24dd6d9f8b9_27'\n",
      " '75d494fbc3534eea837af24dd6d9f8b9_28'\n",
      " '75d494fbc3534eea837af24dd6d9f8b9_29'\n",
      " '75d494fbc3534eea837af24dd6d9f8b9_30'\n",
      " '75d494fbc3534eea837af24dd6d9f8b9_31'\n",
      " '75d494fbc3534eea837af24dd6d9f8b9_32'\n",
      " '75d494fbc3534eea837af24dd6d9f8b9_33'\n",
      " '75d494fbc3534eea837af24dd6d9f8b9_34'\n",
      " '75d494fbc3534eea837af24dd6d9f8b9_35'\n",
      " '75d494fbc3534eea837af24dd6d9f8b9_36'\n",
      " '75d494fbc3534eea837af24dd6d9f8b9_37'\n",
      " '75d494fbc3534eea837af24dd6d9f8b9_38'\n",
      " '75d494fbc3534eea837af24dd6d9f8b9_39'\n",
      " '75d494fbc3534eea837af24dd6d9f8b9_40'] <class 'numpy.ndarray'>\n",
      "populating index with chunks\n",
      "invalid literal for int() with base 10: '75d494fbc3534eea837af24dd6d9f8b9_0'\n"
     ]
    }
   ],
   "source": [
    "result = fiass.append_index(\"75d494fbc3534eea837af24dd6d9f8b9\", \"ABSLI-Assured-Savings-Plan-Brochure-Web-Version-V07\")"
   ]
  },
  {
   "cell_type": "code",
   "execution_count": 21,
   "metadata": {},
   "outputs": [
    {
     "data": {
      "text/plain": [
       "False"
      ]
     },
     "execution_count": 21,
     "metadata": {},
     "output_type": "execute_result"
    }
   ],
   "source": [
    "result"
   ]
  },
  {
   "cell_type": "code",
   "execution_count": 42,
   "metadata": {},
   "outputs": [
    {
     "name": "stdout",
     "output_type": "stream",
     "text": [
      "113059749145936325402354257176981405696\n",
      "113059749145936325402354257176981405696\n"
     ]
    }
   ],
   "source": [
    "import uuid\n",
    "\n",
    "def uuid_to_integer(uuid_str):\n",
    "    uuid_obj = uuid.UUID(uuid_str)\n",
    "    return int(uuid_obj)\n",
    "\n",
    "# Example usage\n",
    "uuid_str = '550e8400-e29b-41d4-a716-446655440000'\n",
    "integer_value = uuid_to_integer(uuid_str)\n",
    "print(integer_value)\n",
    "print(\"113059749145936325402354257176981405696\")"
   ]
  },
  {
   "cell_type": "code",
   "execution_count": 43,
   "metadata": {},
   "outputs": [
    {
     "data": {
      "text/plain": [
       "113059749145936325402354257176981405697"
      ]
     },
     "execution_count": 43,
     "metadata": {},
     "output_type": "execute_result"
    }
   ],
   "source": [
    "uuid_to_integer('550e8400-e29b-41d4-a716-446655440001')"
   ]
  },
  {
   "cell_type": "code",
   "execution_count": 44,
   "metadata": {},
   "outputs": [
    {
     "data": {
      "text/plain": [
       "113059749145936325402354257176981405697"
      ]
     },
     "execution_count": 44,
     "metadata": {},
     "output_type": "execute_result"
    }
   ],
   "source": [
    "uuid_to_integer('550e8400-e29b-41d4-a716-446655440001')"
   ]
  },
  {
   "cell_type": "code",
   "execution_count": 45,
   "metadata": {},
   "outputs": [
    {
     "name": "stdout",
     "output_type": "stream",
     "text": [
      "UUID: 550e8400-e29b-41d4-a716-446655440000, Integer: 113059749145936325402354257176981405696\n",
      "UUID: 550e8400-e29b-41d4-a716-446655440001, Integer: 113059749145936325402354257176981405697\n"
     ]
    }
   ],
   "source": [
    "uuid_str1 = '550e8400-e29b-41d4-a716-446655440000'\n",
    "uuid_str2 = '550e8400-e29b-41d4-a716-446655440001'\n",
    "\n",
    "# Convert UUIDs to integers\n",
    "integer_value1 = uuid_to_integer(uuid_str1)\n",
    "integer_value2 = uuid_to_integer(uuid_str2)\n",
    "\n",
    "print(f\"UUID: {uuid_str1}, Integer: {integer_value1}\")\n",
    "print(f\"UUID: {uuid_str2}, Integer: {integer_value2}\")"
   ]
  },
  {
   "cell_type": "code",
   "execution_count": 44,
   "metadata": {},
   "outputs": [],
   "source": [
    "import json"
   ]
  },
  {
   "cell_type": "code",
   "execution_count": 32,
   "metadata": {},
   "outputs": [
    {
     "data": {
      "text/plain": [
       "0"
      ]
     },
     "execution_count": 32,
     "metadata": {},
     "output_type": "execute_result"
    }
   ],
   "source": [
    "index = faiss.read_index(\"../faiss_index/id_map_index_c500.faiss\")\n",
    "index.ntotal"
   ]
  },
  {
   "cell_type": "code",
   "execution_count": 1,
   "metadata": {},
   "outputs": [],
   "source": [
    "import faiss\n",
    "import numpy as np\n",
    "import json\n",
    "\n",
    "class Faiss:\n",
    "    def __init__(self):\n",
    "        self.index_path = \"../faiss_index/id_map_index_c500.faiss\"\n",
    "\n",
    "    def create_index(self, vector_size):\n",
    "        index = faiss.IndexIDMap(faiss.IndexFlatL2(vector_size))\n",
    "\n",
    "        return index\n",
    "    \n",
    "    def save_index(self, index):\n",
    "        try:\n",
    "            faiss.write_index(index, self.index_path)\n",
    "            return True\n",
    "        except:\n",
    "            return False\n",
    "        \n",
    "    def load_index(self):\n",
    "        index = faiss.read_index(self.index_path)\n",
    "\n",
    "        return index\n",
    "    \n",
    "    def append_index(self, id, pdf_name):\n",
    "        print(f\"id {id} loading index\") # print\n",
    "\n",
    "        index = self.load_index()\n",
    "\n",
    "        print(f\"id {id} index loaded\") # print\n",
    "\n",
    "        with open(f\"../data/chunked_embedded_pdfs/{id}.json\", \"r\") as file:\n",
    "            chunked_embedded_pdf = json.load(file)\n",
    "\n",
    "        print(f\"id {id} chunked_embedded_pdf read!\") # print\n",
    "\n",
    "        pdf_content_vector = chunked_embedded_pdf[\"pdf_content_vector\"]\n",
    "\n",
    "        start_id = index.ntotal\n",
    "\n",
    "        ids = [start_id + count + 1 for count in range(len(pdf_content_vector))]\n",
    "\n",
    "        chunk_ids = [f\"{id}_{count}\" for count in range(len(pdf_content_vector))]\n",
    "\n",
    "        print(\"ids\", ids, \"\\n\")\n",
    "        print(\"chunk_ids\", chunk_ids)\n",
    "\n",
    "        # for count in range(len(pdf_content_vector)):\n",
    "        #     ids.append(f\"{id}_{count}\")  \n",
    "\n",
    "        print(\"checking if len(ids) != len(pdf_content_vector)\") # print\n",
    "\n",
    "        if len(ids) != len(pdf_content_vector):\n",
    "            return False\n",
    "        \n",
    "        print(\"checking if len(ids) != len(chunk_ids)\") # print\n",
    "\n",
    "        if len(ids) != len(chunk_ids):\n",
    "            return False\n",
    "\n",
    "        print(\"converting ids and pdf_content_vector to np.array!\") # print\n",
    "\n",
    "        # ids = np.array(ids)\n",
    "        # pdf_content_vector = np.array(pdf_content_vector)\n",
    "\n",
    "        try:\n",
    "            print(\"populating index with chunks\") # print\n",
    "\n",
    "            index.add_with_ids(np.array(pdf_content_vector), np.array(ids))\n",
    "\n",
    "            print(\"populating index SUCCESSFUL, now saving index!!\") # print\n",
    "\n",
    "            result = self.save_index(index)\n",
    "\n",
    "            if result:\n",
    "                print(\"saving index successful\") # print\n",
    "                \n",
    "                print(\"updating id_uuid_chunk_mapping.json\") # print\n",
    "                try:\n",
    "                    with open(\"../data/id_uuid_chunk_mapping.json\", 'r') as file:\n",
    "                        id_uuid_chunk_mapping = json.load(file)\n",
    "                except:\n",
    "                    id_uuid_chunk_mapping = {}\n",
    "\n",
    "                print(\"update loop running................\")\n",
    "                for id, chunk_id in zip(ids, chunk_ids):\n",
    "                    id_uuid_chunk_mapping[str(id)] = chunk_id\n",
    "\n",
    "                print(\"loop done\")\n",
    "                with open(\"../data/id_uuid_chunk_mapping.json\", 'w') as file:\n",
    "                    json.dump(id_uuid_chunk_mapping, file)\n",
    "\n",
    "                return pdf_name\n",
    "            else:\n",
    "                return False\n",
    "        except:\n",
    "            return False\n",
    "        \n",
    "    def search_index(self, conversation_id, embedded_query, k):\n",
    "        index = self.load_index(self, self.index_path)\n",
    "\n",
    "        distances, neighbors = index.search(embedded_query.reshape(1, -1), k)\n",
    "\n",
    "        top_ids = neighbors[0]\n",
    "\n",
    "        return top_ids\n",
    "    \n",
    "    def get_context(self, conversation_id, top_ids):\n",
    "        context = []\n",
    "        context_chunk_ids = []\n",
    "\n",
    "        with open(\"../data/id_uuid_chunk_mapping.json\", \"r\") as file:\n",
    "            id_uuid_chunk_mapping = json.load(file)\n",
    "\n",
    "        for top_id in top_ids:\n",
    "            if str(top_id) in id_uuid_chunk_mapping:\n",
    "                context_chunk_ids.append(id_uuid_chunk_mapping[str(top_id)])\n",
    "        \n",
    "        for top_chunk_id in context_chunk_ids:\n",
    "            id = top_chunk_id.split(\"_\")[0]\n",
    "            chunk_id = top_chunk_id.split(\"_\")[1]\n",
    "\n",
    "            with open(f\"../data/chunked_embedded_pdfs/{id}.json\", \"r\") as file:\n",
    "                chunked_embedded_pdf = json.load(file)\n",
    "\n",
    "            context.append(chunked_embedded_pdf[\"pdf_content\"][chunk_id])\n",
    "\n",
    "        return context\n"
   ]
  },
  {
   "cell_type": "code",
   "execution_count": 7,
   "metadata": {},
   "outputs": [
    {
     "name": "stdout",
     "output_type": "stream",
     "text": [
      "id a1cd1af4667148a1be086f8c77126beb loading index\n",
      "id a1cd1af4667148a1be086f8c77126beb index loaded\n",
      "id a1cd1af4667148a1be086f8c77126beb chunked_embedded_pdf read!\n",
      "ids [165, 166, 167, 168, 169, 170, 171, 172, 173, 174, 175, 176, 177, 178, 179, 180, 181, 182, 183, 184, 185, 186, 187, 188, 189, 190, 191, 192, 193, 194, 195, 196, 197, 198, 199, 200, 201, 202, 203, 204, 205] \n",
      "\n",
      "chunk_ids ['a1cd1af4667148a1be086f8c77126beb_0', 'a1cd1af4667148a1be086f8c77126beb_1', 'a1cd1af4667148a1be086f8c77126beb_2', 'a1cd1af4667148a1be086f8c77126beb_3', 'a1cd1af4667148a1be086f8c77126beb_4', 'a1cd1af4667148a1be086f8c77126beb_5', 'a1cd1af4667148a1be086f8c77126beb_6', 'a1cd1af4667148a1be086f8c77126beb_7', 'a1cd1af4667148a1be086f8c77126beb_8', 'a1cd1af4667148a1be086f8c77126beb_9', 'a1cd1af4667148a1be086f8c77126beb_10', 'a1cd1af4667148a1be086f8c77126beb_11', 'a1cd1af4667148a1be086f8c77126beb_12', 'a1cd1af4667148a1be086f8c77126beb_13', 'a1cd1af4667148a1be086f8c77126beb_14', 'a1cd1af4667148a1be086f8c77126beb_15', 'a1cd1af4667148a1be086f8c77126beb_16', 'a1cd1af4667148a1be086f8c77126beb_17', 'a1cd1af4667148a1be086f8c77126beb_18', 'a1cd1af4667148a1be086f8c77126beb_19', 'a1cd1af4667148a1be086f8c77126beb_20', 'a1cd1af4667148a1be086f8c77126beb_21', 'a1cd1af4667148a1be086f8c77126beb_22', 'a1cd1af4667148a1be086f8c77126beb_23', 'a1cd1af4667148a1be086f8c77126beb_24', 'a1cd1af4667148a1be086f8c77126beb_25', 'a1cd1af4667148a1be086f8c77126beb_26', 'a1cd1af4667148a1be086f8c77126beb_27', 'a1cd1af4667148a1be086f8c77126beb_28', 'a1cd1af4667148a1be086f8c77126beb_29', 'a1cd1af4667148a1be086f8c77126beb_30', 'a1cd1af4667148a1be086f8c77126beb_31', 'a1cd1af4667148a1be086f8c77126beb_32', 'a1cd1af4667148a1be086f8c77126beb_33', 'a1cd1af4667148a1be086f8c77126beb_34', 'a1cd1af4667148a1be086f8c77126beb_35', 'a1cd1af4667148a1be086f8c77126beb_36', 'a1cd1af4667148a1be086f8c77126beb_37', 'a1cd1af4667148a1be086f8c77126beb_38', 'a1cd1af4667148a1be086f8c77126beb_39', 'a1cd1af4667148a1be086f8c77126beb_40']\n",
      "checking if len(ids) != len(pdf_content_vector)\n",
      "checking if len(ids) != len(chunk_ids)\n",
      "converting ids and pdf_content_vector to np.array!\n",
      "populating index with chunks\n",
      "populating index SUCCESSFUL, now saving index!!\n",
      "saving index successful\n",
      "updating id_uuid_chunk_mapping.json\n",
      "update loop running................\n",
      "loop done\n"
     ]
    },
    {
     "data": {
      "text/plain": [
       "'test'"
      ]
     },
     "execution_count": 7,
     "metadata": {},
     "output_type": "execute_result"
    }
   ],
   "source": [
    "f = Faiss()\n",
    "test = f.append_index(\"a1cd1af4667148a1be086f8c77126beb\", \"test\")\n",
    "test"
   ]
  },
  {
   "cell_type": "code",
   "execution_count": 8,
   "metadata": {},
   "outputs": [
    {
     "data": {
      "text/plain": [
       "205"
      ]
     },
     "execution_count": 8,
     "metadata": {},
     "output_type": "execute_result"
    }
   ],
   "source": [
    "index = f.load_index()\n",
    "index.ntotal"
   ]
  },
  {
   "cell_type": "code",
   "execution_count": 5,
   "metadata": {},
   "outputs": [],
   "source": [
    "# index.reset()"
   ]
  },
  {
   "cell_type": "code",
   "execution_count": 9,
   "metadata": {},
   "outputs": [
    {
     "data": {
      "text/plain": [
       "205"
      ]
     },
     "execution_count": 9,
     "metadata": {},
     "output_type": "execute_result"
    }
   ],
   "source": [
    "index.ntotal"
   ]
  },
  {
   "cell_type": "code",
   "execution_count": 10,
   "metadata": {},
   "outputs": [
    {
     "name": "stdout",
     "output_type": "stream",
     "text": [
      "Before reset, ntotal: 100\n",
      "After reset, ntotal: 0\n",
      "After repopulating, ntotal: 100\n"
     ]
    }
   ],
   "source": [
    "import faiss\n",
    "import numpy as np\n",
    "\n",
    "# Create a Faiss index\n",
    "dimension = 128\n",
    "index = faiss.IndexFlatL2(dimension)\n",
    "\n",
    "# Add vectors to the index (example)\n",
    "vectors = np.random.random((100, dimension)).astype('float32')  # Example vectors\n",
    "index.add(vectors)\n",
    "\n",
    "# Check the value of ntotal before resetting the index\n",
    "print(\"Before reset, ntotal:\", index.ntotal)\n",
    "\n",
    "# Reset the index\n",
    "index.reset()\n",
    "\n",
    "# Check the value of ntotal after resetting the index\n",
    "print(\"After reset, ntotal:\", index.ntotal)\n",
    "\n",
    "# Repopulate the index with the same documents\n",
    "index.add(vectors)\n",
    "\n",
    "# Check the value of ntotal after repopulating the index\n",
    "print(\"After repopulating, ntotal:\", index.ntotal)\n",
    "\n",
    "\n"
   ]
  },
  {
   "cell_type": "code",
   "execution_count": 13,
   "metadata": {},
   "outputs": [
    {
     "name": "stdout",
     "output_type": "stream",
     "text": [
      "0\n",
      "[1, 2, 3, 4, 5, 6, 7, 8, 9, 10, 11, 12, 13, 14, 15, 16, 17, 18, 19, 20, 21, 22, 23, 24, 25, 26, 27, 28, 29, 30, 31, 32, 33, 34, 35, 36, 37, 38, 39, 40, 41, 42, 43, 44, 45, 46, 47, 48, 49, 50, 51, 52, 53, 54, 55, 56, 57, 58, 59, 60, 61, 62, 63, 64, 65, 66, 67, 68, 69, 70, 71, 72, 73, 74, 75, 76, 77, 78, 79, 80, 81, 82, 83, 84, 85, 86, 87, 88, 89, 90, 91, 92, 93, 94, 95, 96, 97, 98, 99, 100]\n",
      "index reset\n",
      "[1, 2, 3, 4, 5, 6, 7, 8, 9, 10, 11, 12, 13, 14, 15, 16, 17, 18, 19, 20, 21, 22, 23, 24, 25, 26, 27, 28, 29, 30, 31, 32, 33, 34, 35, 36, 37, 38, 39, 40, 41, 42, 43, 44, 45, 46, 47, 48, 49, 50, 51, 52, 53, 54, 55, 56, 57, 58, 59, 60, 61, 62, 63, 64, 65, 66, 67, 68, 69, 70, 71, 72, 73, 74, 75, 76, 77, 78, 79, 80, 81, 82, 83, 84, 85, 86, 87, 88, 89, 90, 91, 92, 93, 94, 95, 96, 97, 98, 99, 100]\n"
     ]
    }
   ],
   "source": [
    "index.reset()\n",
    "start_id = index.ntotal\n",
    "print(start_id)\n",
    "ids = [start_id + count + 1 for count in range(0, 100)]\n",
    "print(ids)\n",
    "index.reset()\n",
    "print(\"index reset\")\n",
    "vectors = np.random.random((100, dimension)).astype('float32')  # Example vectors\n",
    "index.add(vectors)\n",
    "ids = [start_id + count + 1 for count in range(0, 100)]\n",
    "print(ids)"
   ]
  },
  {
   "cell_type": "code",
   "execution_count": 17,
   "metadata": {},
   "outputs": [
    {
     "ename": "AttributeError",
     "evalue": "'IndexFlatL2' object has no attribute 'pdf_name'",
     "output_type": "error",
     "traceback": [
      "\u001b[1;31m---------------------------------------------------------------------------\u001b[0m",
      "\u001b[1;31mAttributeError\u001b[0m                            Traceback (most recent call last)",
      "Cell \u001b[1;32mIn[17], line 1\u001b[0m\n\u001b[1;32m----> 1\u001b[0m \u001b[43mindex\u001b[49m\u001b[38;5;241;43m.\u001b[39;49m\u001b[43mpdf_name\u001b[49m\n",
      "\u001b[1;31mAttributeError\u001b[0m: 'IndexFlatL2' object has no attribute 'pdf_name'"
     ]
    }
   ],
   "source": [
    "index."
   ]
  },
  {
   "cell_type": "code",
   "execution_count": null,
   "metadata": {},
   "outputs": [],
   "source": []
  }
 ],
 "metadata": {
  "kernelspec": {
   "display_name": "venv_ct_miner_ml_os",
   "language": "python",
   "name": "python3"
  },
  "language_info": {
   "codemirror_mode": {
    "name": "ipython",
    "version": 3
   },
   "file_extension": ".py",
   "mimetype": "text/x-python",
   "name": "python",
   "nbconvert_exporter": "python",
   "pygments_lexer": "ipython3",
   "version": "3.10.10"
  }
 },
 "nbformat": 4,
 "nbformat_minor": 2
}
