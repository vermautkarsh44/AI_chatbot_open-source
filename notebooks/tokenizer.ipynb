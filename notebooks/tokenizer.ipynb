{
 "cells": [
  {
   "cell_type": "code",
   "execution_count": 8,
   "metadata": {},
   "outputs": [
    {
     "name": "stderr",
     "output_type": "stream",
     "text": [
      "c:\\Users\\UtkarshVerma\\Desktop\\ct_miner_ml_os\\venv_ct_miner_ml_os\\lib\\site-packages\\tqdm\\auto.py:21: TqdmWarning: IProgress not found. Please update jupyter and ipywidgets. See https://ipywidgets.readthedocs.io/en/stable/user_install.html\n",
      "  from .autonotebook import tqdm as notebook_tqdm\n"
     ]
    }
   ],
   "source": [
    "import tiktoken\n",
    "from transformers import LlamaTokenizer\n",
    "from langchain.text_splitter import RecursiveCharacterTextSplitter"
   ]
  },
  {
   "cell_type": "code",
   "execution_count": 21,
   "metadata": {},
   "outputs": [],
   "source": [
    "text = ['PROTECTING your dreams and goals \\nis now assured\\n• Lump sum beneﬁts to cater to your life’s milestones \\n• Loyalty Additions that boost your corpus year on year\\n• Flexibility to cover your spouse by choosing Joint Life Protection\\nAditya Birla Sun Life Insurance Assured Savings Plan\\nA Non-Linked Non-Participating Individual Savings Life Insurance Plan\\nVishal & Kajal / Cafe Owners\\n©Aditya Birla Sun Life Insurance Company Limited. All Rights Reserved.\\nAditya Birla Sun Life\\nInsurance Co. Ltd.\\n',\n",
    " 'Life is all about achieving your dreams without the fear of uncertainties. \\nDreams are essential as they provide the motivation and determination \\nfor succeeding in life. With a disciplined approach and adequate life \\ninsurance cover, all your dreams can become a reality. So, wouldn’t it be \\ngreat if you get a cushion of guarantee to fulﬁl your dreams? \\nYes! With ABSLI Assured Savings Plan, you can create a cushion of \\nguarantee for all your dreams. ABSLI Assured Savings Plan provides life \\ninsurance cover and savings beneﬁts to safeguard your family members \\nfrom ﬁnancial crisis in case of an unfortunate event, while helping you \\naccumulate lump sum beneﬁts to achieve all your dreams.  \\nKajal Grover / Cafe Owner\\n©Aditya Birla Sun Life Insurance Company Limited. All Rights Reserved.\\n',\n",
    " 'Key Features Of ABSLI Assured Savings Plan \\nGuaranteed1 Maturity Beneﬁt: Lump sum beneﬁts to cater to  your life’s \\nmilestones, worr free.\\nABSLI Assured Savings Plan At A Glance\\nProduct Speciﬁcations\\nType of Plan\\nCoverage\\nBeneﬁt Option\\nPremium Payment Term (PPT)\\n& Policy Term (PT)\\nA Non-Linked Non-Participating Individual Savings Life Insurance Plan\\nAll Individuals (Male | Female | Transgender)\\nLump sum Payout at Policy Maturity  \\nPremium Payment\\nTerm (Years)\\nPolicy Term (Years)\\nMinimum\\nMaximum\\nSingle Pay \\n5\\n6\\n7\\n8\\n9\\n10\\n11\\n12\\n5\\n10\\n12\\n13\\n14\\n15\\n16\\n17\\n18\\n20\\n35\\nAge of the Life Insured at\\nEntr (Age as on last birthday)\\nMinimum\\nMaximum\\nSingle Life: 30 days*\\nJoint Life: 18 years\\n* In case the Life Insured is a minor, the Policy will automatically vest in favour of Life \\nInsured a\\x1ber attainment of majority of the Life Insured. For policies issued on minor life, the \\ndate of commencement of risk shall be the date of commencement of the policy.\\nSingle life: 65 years\\nJoint Life: 50 years\\nSingle Pay Option B: 50 years\\nLoyalty Additions: Loyalty Additions are added to your policy to boost \\nyour maturity corpus, provided all due premiums have been paid.     \\nBoost for your maturity corpus: Get higher maturity beneﬁt with higher \\npremium paying policies.     \\nFinancial Security for your loved ones: Get comprehensive risk cover in \\ncase of death of life insured.    \\nFlexibility: Choice of various Premium Payment Terms, Policy Terms and \\nSum Assured Multiples to suit your requirements.\\nJoint Life Protection Option: Cover your Spouse in the same policy \\nthrough Joint Life Protection option.\\nEnhance your Protection: Avail additional risk cover through Riders on \\npayment of additional premium.\\n1Provided all due premiums are paid\\n',\n",
    " 'Maturity Age of the Life Insured\\n(Age as on last birthday)\\nMinimum\\nMaximum\\n18 years\\n85 years\\nSingle Pay Option B: 70 years\\nMinimum Annualized Premium\\nSingle Pay: Rs.100,000\\n5 Pay:         Rs.20,000\\n6-12 Pay:   Rs.30,000\\nMaximum Annualized Premium\\nNo Limit (subject to Board Approved Underwriting Policy)\\nPremium Payment Frequency\\nand Frequency Loadings \\nFrequency\\nModal Factors \\nAnnual\\nSemi-annual\\nQuarterly\\nMonthly\\n0.0%\\n3.5%\\n5.0%\\n6.0%\\nPremium Bands \\nThe beneﬁts under this product var by premium bands as mentioned below:\\nAnnualized\\nPremium \\nBand 1\\nBand 2\\nBand 3\\nBand 4\\nNA\\nNA\\n100,000 \\nto\\n199,999\\nBand 5\\nBand 6\\nSingle Pay  \\nLimited Pay\\n200,000 \\nto\\n499,999\\n500,000 \\nto\\n24,99,999\\n25,00,000 \\n&\\nabove\\nUpto\\n49,999\\n50,000 \\nto \\n99,999\\n100,000 \\nto\\n199,999\\n200,000 \\nto\\n499,999\\n500,000 \\nto\\n24,99,999\\n25,00,000 \\n&\\nabove\\nPOS Boundar Conditions\\nPremium Payment Term (PPT)\\n& Policy Term (PT)\\nPremium Payment\\nTerm (Years)\\nPolicy Term (Years)\\nMinimum\\nMaximum\\nSingle Pay \\n5\\n6\\n7\\n8\\n9\\n10\\n11\\n12\\n5\\n10\\n12\\n13\\n14\\n15\\n16\\n17\\n18\\n20\\nAge of the Life Insured at Entr\\n(Age as on last birthday)\\nMinimum\\nMaximum\\nSingle Life: 30 days*\\nJoint Life: 18 years\\n* In case the Life Insured is a minor, the Policy will automatically vest in favour of Life Insured\\na\\x1ber attainment of majority of the Life Insured. For policies issued on minor life, the date of\\ncommencement of risk shall be the date of commencement of the policy.\\n60 years \\nJoint Life and Single Pay Option B : 50 years\\nMaturity Age of the Life Insured\\n(Age as on last birthday)\\n65 years\\nMinimum Annualized Premium\\nSingle Pay: Rs.100,000\\n5 Pay: Rs.20,000\\n6-12 Pay: Rs.30,000\\nMaximum Annualized Premium\\nNo Limit (subject to Board Approved Underwriting Policy)\\nPremium Payment Frequency\\nand Frequency Loadings \\nMode\\nModal Loading\\nAnnual\\nSemi-annual\\nQuarterly\\nMonthly\\n0.0%\\n3.5%\\n5.0%\\n6.0%\\nMaximum Sum Assured on \\nDeath\\nRs. 25,00,000\\n',\n",
    "]"
   ]
  },
  {
   "cell_type": "code",
   "execution_count": 22,
   "metadata": {},
   "outputs": [],
   "source": [
    "text=' '.join(text)"
   ]
  },
  {
   "cell_type": "code",
   "execution_count": 17,
   "metadata": {},
   "outputs": [
    {
     "data": {
      "text/plain": [
       "str"
      ]
     },
     "execution_count": 17,
     "metadata": {},
     "output_type": "execute_result"
    }
   ],
   "source": [
    "type(text)"
   ]
  },
  {
   "cell_type": "code",
   "execution_count": 7,
   "metadata": {},
   "outputs": [],
   "source": [
    "tokenizer = LlamaTokenizer.from_pretrained(\"../model/tokenizer.model\")"
   ]
  },
  {
   "cell_type": "code",
   "execution_count": 8,
   "metadata": {},
   "outputs": [
    {
     "data": {
      "text/plain": [
       "['▁hello',\n",
       " '▁uncle',\n",
       " '▁nam',\n",
       " 'aste',\n",
       " '▁ch',\n",
       " 'alo',\n",
       " '▁ka',\n",
       " 'am',\n",
       " '▁ki',\n",
       " '▁ba',\n",
       " 'at',\n",
       " '▁pe',\n",
       " '▁a',\n",
       " 'ate',\n",
       " '▁ha',\n",
       " 'in']"
      ]
     },
     "execution_count": 8,
     "metadata": {},
     "output_type": "execute_result"
    }
   ],
   "source": [
    "res = tokenizer.tokenize(\"hello uncle namaste chalo kaam ki baat pe aate hain\")\n",
    "res"
   ]
  },
  {
   "cell_type": "code",
   "execution_count": 12,
   "metadata": {},
   "outputs": [],
   "source": [
    "def tokenized_len(text):\n",
    "    tokenizer = LlamaTokenizer.from_pretrained(\"../model/tokenizer.model\")\n",
    "    tokens = tokenizer.tokenize(text)\n",
    "    \n",
    "    return len(tokens)"
   ]
  },
  {
   "cell_type": "code",
   "execution_count": 13,
   "metadata": {},
   "outputs": [],
   "source": [
    "text_splitter = RecursiveCharacterTextSplitter(\n",
    "    chunk_size = 500,\n",
    "    chunk_overlap  = 25,\n",
    "    length_function = tokenized_len\n",
    ")"
   ]
  },
  {
   "cell_type": "code",
   "execution_count": 24,
   "metadata": {},
   "outputs": [
    {
     "name": "stderr",
     "output_type": "stream",
     "text": [
      "c:\\Users\\UtkarshVerma\\Desktop\\ct_miner_ml_os\\venv_ct_miner_ml_os\\lib\\site-packages\\transformers\\tokenization_utils_base.py:1929: FutureWarning: Calling LlamaTokenizer.from_pretrained() with the path to a single file or url is deprecated and won't be possible anymore in v5. Use a model identifier or the path to a directory instead.\n",
      "  warnings.warn(\n"
     ]
    },
    {
     "data": {
      "text/plain": [
       "['PROTECTING your dreams and goals \\nis now assured\\n• Lump sum beneﬁts to cater to your life’s milestones \\n• Loyalty Additions that boost your corpus year on year\\n• Flexibility to cover your spouse by choosing Joint Life Protection\\nAditya Birla Sun Life Insurance Assured Savings Plan\\nA Non-Linked Non-Participating Individual Savings Life Insurance Plan\\nVishal & Kajal / Cafe Owners\\n©Aditya Birla Sun Life Insurance Company Limited. All Rights Reserved.\\nAditya Birla Sun Life\\nInsurance Co. Ltd.\\n Life is all about achieving your dreams without the fear of uncertainties. \\nDreams are essential as they provide the motivation and determination \\nfor succeeding in life. With a disciplined approach and adequate life \\ninsurance cover, all your dreams can become a reality. So, wouldn’t it be \\ngreat if you get a cushion of guarantee to fulﬁl your dreams? \\nYes! With ABSLI Assured Savings Plan, you can create a cushion of \\nguarantee for all your dreams. ABSLI Assured Savings Plan provides life \\ninsurance cover and savings beneﬁts to safeguard your family members \\nfrom ﬁnancial crisis in case of an unfortunate event, while helping you \\naccumulate lump sum beneﬁts to achieve all your dreams.  \\nKajal Grover / Cafe Owner\\n©Aditya Birla Sun Life Insurance Company Limited. All Rights Reserved.\\n Key Features Of ABSLI Assured Savings Plan \\nGuaranteed1 Maturity Beneﬁt: Lump sum beneﬁts to cater to  your life’s \\nmilestones, worr free.\\nABSLI Assured Savings Plan At A Glance\\nProduct Speciﬁcations\\nType of Plan\\nCoverage\\nBeneﬁt Option',\n",
       " 'Product Speciﬁcations\\nType of Plan\\nCoverage\\nBeneﬁt Option\\nPremium Payment Term (PPT)\\n& Policy Term (PT)\\nA Non-Linked Non-Participating Individual Savings Life Insurance Plan\\nAll Individuals (Male | Female | Transgender)\\nLump sum Payout at Policy Maturity  \\nPremium Payment\\nTerm (Years)\\nPolicy Term (Years)\\nMinimum\\nMaximum\\nSingle Pay \\n5\\n6\\n7\\n8\\n9\\n10\\n11\\n12\\n5\\n10\\n12\\n13\\n14\\n15\\n16\\n17\\n18\\n20\\n35\\nAge of the Life Insured at\\nEntr (Age as on last birthday)\\nMinimum\\nMaximum\\nSingle Life: 30 days*\\nJoint Life: 18 years\\n* In case the Life Insured is a minor, the Policy will automatically vest in favour of Life \\nInsured a\\x1ber attainment of majority of the Life Insured. For policies issued on minor life, the \\ndate of commencement of risk shall be the date of commencement of the policy.\\nSingle life: 65 years\\nJoint Life: 50 years\\nSingle Pay Option B: 50 years\\nLoyalty Additions: Loyalty Additions are added to your policy to boost \\nyour maturity corpus, provided all due premiums have been paid.     \\nBoost for your maturity corpus: Get higher maturity beneﬁt with higher \\npremium paying policies.     \\nFinancial Security for your loved ones: Get comprehensive risk cover in \\ncase of death of life insured.    \\nFlexibility: Choice of various Premium Payment Terms, Policy Terms and \\nSum Assured Multiples to suit your requirements.',\n",
       " 'Sum Assured Multiples to suit your requirements.\\nJoint Life Protection Option: Cover your Spouse in the same policy \\nthrough Joint Life Protection option.\\nEnhance your Protection: Avail additional risk cover through Riders on \\npayment of additional premium.\\n1Provided all due premiums are paid\\n Maturity Age of the Life Insured\\n(Age as on last birthday)\\nMinimum\\nMaximum\\n18 years\\n85 years\\nSingle Pay Option B: 70 years\\nMinimum Annualized Premium\\nSingle Pay: Rs.100,000\\n5 Pay:         Rs.20,000\\n6-12 Pay:   Rs.30,000\\nMaximum Annualized Premium\\nNo Limit (subject to Board Approved Underwriting Policy)\\nPremium Payment Frequency\\nand Frequency Loadings \\nFrequency\\nModal Factors \\nAnnual\\nSemi-annual\\nQuarterly\\nMonthly\\n0.0%\\n3.5%\\n5.0%\\n6.0%\\nPremium Bands \\nThe beneﬁts under this product var by premium bands as mentioned below:\\nAnnualized\\nPremium \\nBand 1\\nBand 2\\nBand 3\\nBand 4\\nNA\\nNA\\n100,000 \\nto\\n199,999\\nBand 5\\nBand 6\\nSingle Pay  \\nLimited Pay\\n200,000 \\nto\\n499,999\\n500,000 \\nto\\n24,99,999\\n25,00,000 \\n&\\nabove\\nUpto\\n49,999\\n50,000 \\nto \\n99,999',\n",
       " '50,000 \\nto \\n99,999\\n100,000 \\nto\\n199,999\\n200,000 \\nto\\n499,999\\n500,000 \\nto\\n24,99,999\\n25,00,000 \\n&\\nabove\\nPOS Boundar Conditions\\nPremium Payment Term (PPT)\\n& Policy Term (PT)\\nPremium Payment\\nTerm (Years)\\nPolicy Term (Years)\\nMinimum\\nMaximum\\nSingle Pay \\n5\\n6\\n7\\n8\\n9\\n10\\n11\\n12\\n5\\n10\\n12\\n13\\n14\\n15\\n16\\n17\\n18\\n20\\nAge of the Life Insured at Entr\\n(Age as on last birthday)\\nMinimum\\nMaximum\\nSingle Life: 30 days*\\nJoint Life: 18 years\\n* In case the Life Insured is a minor, the Policy will automatically vest in favour of Life Insured\\na\\x1ber attainment of majority of the Life Insured. For policies issued on minor life, the date of\\ncommencement of risk shall be the date of commencement of the policy.\\n60 years \\nJoint Life and Single Pay Option B : 50 years\\nMaturity Age of the Life Insured\\n(Age as on last birthday)\\n65 years\\nMinimum Annualized Premium\\nSingle Pay: Rs.100,000\\n5 Pay: Rs.20,000\\n6-12 Pay: Rs.30,000\\nMaximum Annualized Premium\\nNo Limit (subject to Board Approved Underwriting Policy)\\nPremium Payment Frequency\\nand Frequency Loadings \\nMode',\n",
       " 'Premium Payment Frequency\\nand Frequency Loadings \\nMode\\nModal Loading\\nAnnual\\nSemi-annual\\nQuarterly\\nMonthly\\n0.0%\\n3.5%\\n5.0%\\n6.0%\\nMaximum Sum Assured on \\nDeath\\nRs. 25,00,000']"
      ]
     },
     "execution_count": 24,
     "metadata": {},
     "output_type": "execute_result"
    }
   ],
   "source": [
    "contents = text_splitter.split_text(text)\n",
    "contents"
   ]
  },
  {
   "cell_type": "code",
   "execution_count": 3,
   "metadata": {},
   "outputs": [],
   "source": [
    "class Jina_embed_v2:\n",
    "\n",
    "    def tokenized_len(self, text):\n",
    "        tokenizer = LlamaTokenizer.from_pretrained(\"../model/tokenizer.model\")\n",
    "        tokens = tokenizer.tokenize(text)\n",
    "    \n",
    "        return len(tokens)\n",
    "    \n",
    "    def get_text_splitter(self):\n",
    "        text_splitter = RecursiveCharacterTextSplitter(\n",
    "                                                        chunk_size = 500,\n",
    "                                                        chunk_overlap  = 25,\n",
    "                                                        length_function = self.tokenized_len\n",
    "                                                    )\n",
    "        \n",
    "        return  text_splitter\n",
    "    \n",
    "    def split_text(self, text):\n",
    "        text_splitter = self.get_text_splitter()\n",
    "\n",
    "        text_splits = text_splitter.split_text(text)\n",
    "\n",
    "        return text_splits"
   ]
  },
  {
   "cell_type": "code",
   "execution_count": 45,
   "metadata": {},
   "outputs": [],
   "source": [
    "text =\"PROTECTING your dreams and goals \\nis now assured\\n• Lump sum beneﬁts to cater to your life’s milestones \\n• Loyalty Additions that boost your corpus year on year\\n• Flexibility to cover your spouse by choosing Joint Life Protection\\nAditya Birla Sun Life Insurance Assured Savings Plan\\nA Non-Linked Non-Participating Individual Savings Life Insurance Plan\\nVishal & Kajal / Cafe Owners\\n©Aditya Birla Sun Life Insurance Company Limited. All Rights Reserved.\\nAditya Birla Sun Life\\nInsurance Co. Ltd.\\n Life is all about achieving your dreams without the fear of uncertainties. \\nDreams are essential as they provide the motivation and determination \\nfor succeeding in life. With a disciplined approach and adequate life \\ninsurance cover, all your dreams can become a reality. So, wouldn’t it be \\ngreat if you get a cushion of guarantee to fulﬁl your dreams? \\nYes! With ABSLI Assured Savings Plan, you can create a cushion of \\nguarantee for all your dreams. ABSLI Assured Savings Plan provides life \\ninsurance cover and savings beneﬁts to safeguard your family members \\nfrom ﬁnancial crisis in case of an unfortunate event, while helping you \\naccumulate lump sum beneﬁts to achieve all your dreams.  \\nKajal Grover / Cafe Owner\\n©Aditya Birla Sun Life Insurance Company Limited. All Rights Reserved.\\n Key Features Of ABSLI Assured Savings Plan \\nGuaranteed1 Maturity Beneﬁt: Lump sum beneﬁts to cater to  your life’s \\nmilestones, worr free.\\nABSLI Assured Savings Plan At A Glance\\nProduct Speciﬁcations\\nType of Plan\\nCoverage\\nBeneﬁt Option\\nPremium Payment Term (PPT)\\n& Policy Term (PT)\\nA Non-Linked Non-Participating Individual Savings Life Insurance Plan\\nAll Individuals (Male | Female | Transgender)\\nLump sum Payout at Policy Maturity  \\nPremium Payment\\nTerm (Years)\\nPolicy Term (Years)\\nMinimum\\nMaximum\\nSingle Pay \\n5\\n6\\n7\\n8\\n9\\n10\\n11\\n12\\n5\\n10\\n12\\n13\\n14\\n15\\n16\\n17\\n18\\n20\\n35\\nAge of the Life Insured at\\nEntr (Age as on last birthday)\\nMinimum\\nMaximum\\nSingle Life: 30 days*\\nJoint Life: 18 years\\n* In case the Life Insured is a minor, the Policy will automatically vest in favour of Life \\nInsured a\\x1ber attainment of majority of the Life Insured. For policies issued on minor life, the \\ndate of commencement of risk shall be the date of commencement of the policy.\\nSingle life: 65 years\\nJoint Life: 50 years\\nSingle Pay Option B: 50 years\\nLoyalty Additions: Loyalty Additions are added to your policy to boost \\nyour maturity corpus, provided all due premiums have been paid.     \\nBoost for your maturity corpus: Get higher maturity beneﬁt with higher \\npremium paying policies.     \\nFinancial Security for your loved ones: Get comprehensive risk cover in \\ncase of death of life insured.    \\nFlexibility: Choice of various Premium Payment Terms, Policy Terms and \\nSum Assured Multiples to suit your requirements.\\nJoint Life Protection Option: Cover your Spouse in the same policy \\nthrough Joint Life Protection option.\\nEnhance your Protection: Avail additional risk cover through Riders on \\npayment of additional premium.\\n1Provided all due premiums are paid\\n Maturity Age of the Life Insured\\n(Age as on last birthday)\\nMinimum\\nMaximum\\n18 years\\n85 years\\nSingle Pay Option B: 70 years\\nMinimum Annualized Premium\\nSingle Pay: Rs.100,000\\n5 Pay:         Rs.20,000\\n6-12 Pay:   Rs.30,000\\nMaximum Annualized Premium\\nNo Limit (subject to Board Approved Underwriting Policy)\\nPremium Payment Frequency\\nand Frequency Loadings \\nFrequency\\nModal Factors \\nAnnual\\nSemi-annual\\nQuarterly\\nMonthly\\n0.0%\\n3.5%\\n5.0%\\n6.0%\\nPremium Bands \\nThe beneﬁts under this product var by premium bands as mentioned below:\\nAnnualized\\nPremium \\nBand 1\\nBand 2\\nBand 3\\nBand 4\\nNA\\nNA\\n100,000 \\nto\\n199,999\\nBand 5\\nBand 6\\nSingle Pay  \\nLimited Pay\\n200,000 \\nto\\n499,999\\n500,000 \\nto\\n24,99,999\\n25,00,000 \\n&\\nabove\\nUpto\\n49,999\\n50,000 \\nto \\n99,999\\n100,000 \\nto\\n199,999\\n200,000 \\nto\\n499,999\\n500,000 \\nto\\n24,99,999\\n25,00,000 \\n&\\nabove\\nPOS Boundar Conditions\\nPremium Payment Term (PPT)\\n& Policy Term (PT)\\nPremium Payment\\nTerm (Years)\\nPolicy Term (Years)\\nMinimum\\nMaximum\\nSingle Pay \\n5\\n6\\n7\\n8\\n9\\n10\\n11\\n12\\n5\\n10\\n12\\n13\\n14\\n15\\n16\\n17\\n18\\n20\\nAge of the Life Insured at Entr\\n(Age as on last birthday)\\nMinimum\\nMaximum\\nSingle Life: 30 days*\\nJoint Life: 18 years\\n* In case the Life Insured is a minor, the Policy will automatically vest in favour of Life Insured\\na\\x1ber attainment of majority of the Life Insured. For policies issued on minor life, the date of\\ncommencement of risk shall be the date of commencement of the policy.\\n60 years \\nJoint Life and Single Pay Option B : 50 years\\nMaturity Age of the Life Insured\\n(Age as on last birthday)\\n65 years\\nMinimum Annualized Premium\\nSingle Pay: Rs.100,000\\n5 Pay: Rs.20,000\\n6-12 Pay: Rs.30,000\\nMaximum Annualized Premium\\nNo Limit (subject to Board Approved Underwriting Policy)\\nPremium Payment Frequency\\nand Frequency Loadings \\nMode\\nModal Loading\\nAnnual\\nSemi-annual\\nQuarterly\\nMonthly\\n0.0%\\n3.5%\\n5.0%\\n6.0%\\nMaximum Sum Assured on \\nDeath\\nRs. 25,00,000\\n\""
   ]
  },
  {
   "cell_type": "code",
   "execution_count": 52,
   "metadata": {},
   "outputs": [
    {
     "name": "stderr",
     "output_type": "stream",
     "text": [
      "c:\\Users\\UtkarshVerma\\Desktop\\ct_miner_ml_os\\venv_ct_miner_ml_os\\lib\\site-packages\\transformers\\tokenization_utils_base.py:1929: FutureWarning: Calling LlamaTokenizer.from_pretrained() with the path to a single file or url is deprecated and won't be possible anymore in v5. Use a model identifier or the path to a directory instead.\n",
      "  warnings.warn(\n"
     ]
    }
   ],
   "source": [
    "jina = Jina_embed_v2()\n",
    "\n",
    "res = jina.split_text(text)\n",
    "# res"
   ]
  },
  {
   "cell_type": "code",
   "execution_count": 53,
   "metadata": {},
   "outputs": [
    {
     "data": {
      "text/plain": [
       "['PROTECTING your dreams and goals \\nis now assured\\n• Lump sum beneﬁts to cater to your life’s milestones \\n• Loyalty Additions that boost your corpus year on year\\n• Flexibility to cover your spouse by choosing Joint Life Protection\\nAditya Birla Sun Life Insurance Assured Savings Plan\\nA Non-Linked Non-Participating Individual Savings Life Insurance Plan\\nVishal & Kajal / Cafe Owners\\n©Aditya Birla Sun Life Insurance Company Limited. All Rights Reserved.\\nAditya Birla Sun Life\\nInsurance Co. Ltd.\\n Life is all about achieving your dreams without the fear of uncertainties. \\nDreams are essential as they provide the motivation and determination \\nfor succeeding in life. With a disciplined approach and adequate life \\ninsurance cover, all your dreams can become a reality. So, wouldn’t it be \\ngreat if you get a cushion of guarantee to fulﬁl your dreams? \\nYes! With ABSLI Assured Savings Plan, you can create a cushion of \\nguarantee for all your dreams. ABSLI Assured Savings Plan provides life \\ninsurance cover and savings beneﬁts to safeguard your family members \\nfrom ﬁnancial crisis in case of an unfortunate event, while helping you \\naccumulate lump sum beneﬁts to achieve all your dreams.  \\nKajal Grover / Cafe Owner\\n©Aditya Birla Sun Life Insurance Company Limited. All Rights Reserved.\\n Key Features Of ABSLI Assured Savings Plan \\nGuaranteed1 Maturity Beneﬁt: Lump sum beneﬁts to cater to  your life’s \\nmilestones, worr free.\\nABSLI Assured Savings Plan At A Glance\\nProduct Speciﬁcations\\nType of Plan\\nCoverage\\nBeneﬁt Option',\n",
       " 'Product Speciﬁcations\\nType of Plan\\nCoverage\\nBeneﬁt Option\\nPremium Payment Term (PPT)\\n& Policy Term (PT)\\nA Non-Linked Non-Participating Individual Savings Life Insurance Plan\\nAll Individuals (Male | Female | Transgender)\\nLump sum Payout at Policy Maturity  \\nPremium Payment\\nTerm (Years)\\nPolicy Term (Years)\\nMinimum\\nMaximum\\nSingle Pay \\n5\\n6\\n7\\n8\\n9\\n10\\n11\\n12\\n5\\n10\\n12\\n13\\n14\\n15\\n16\\n17\\n18\\n20\\n35\\nAge of the Life Insured at\\nEntr (Age as on last birthday)\\nMinimum\\nMaximum\\nSingle Life: 30 days*\\nJoint Life: 18 years\\n* In case the Life Insured is a minor, the Policy will automatically vest in favour of Life \\nInsured a\\x1ber attainment of majority of the Life Insured. For policies issued on minor life, the \\ndate of commencement of risk shall be the date of commencement of the policy.\\nSingle life: 65 years\\nJoint Life: 50 years\\nSingle Pay Option B: 50 years\\nLoyalty Additions: Loyalty Additions are added to your policy to boost \\nyour maturity corpus, provided all due premiums have been paid.     \\nBoost for your maturity corpus: Get higher maturity beneﬁt with higher \\npremium paying policies.     \\nFinancial Security for your loved ones: Get comprehensive risk cover in \\ncase of death of life insured.    \\nFlexibility: Choice of various Premium Payment Terms, Policy Terms and \\nSum Assured Multiples to suit your requirements.',\n",
       " 'Sum Assured Multiples to suit your requirements.\\nJoint Life Protection Option: Cover your Spouse in the same policy \\nthrough Joint Life Protection option.\\nEnhance your Protection: Avail additional risk cover through Riders on \\npayment of additional premium.\\n1Provided all due premiums are paid\\n Maturity Age of the Life Insured\\n(Age as on last birthday)\\nMinimum\\nMaximum\\n18 years\\n85 years\\nSingle Pay Option B: 70 years\\nMinimum Annualized Premium\\nSingle Pay: Rs.100,000\\n5 Pay:         Rs.20,000\\n6-12 Pay:   Rs.30,000\\nMaximum Annualized Premium\\nNo Limit (subject to Board Approved Underwriting Policy)\\nPremium Payment Frequency\\nand Frequency Loadings \\nFrequency\\nModal Factors \\nAnnual\\nSemi-annual\\nQuarterly\\nMonthly\\n0.0%\\n3.5%\\n5.0%\\n6.0%\\nPremium Bands \\nThe beneﬁts under this product var by premium bands as mentioned below:\\nAnnualized\\nPremium \\nBand 1\\nBand 2\\nBand 3\\nBand 4\\nNA\\nNA\\n100,000 \\nto\\n199,999\\nBand 5\\nBand 6\\nSingle Pay  \\nLimited Pay\\n200,000 \\nto\\n499,999\\n500,000 \\nto\\n24,99,999\\n25,00,000 \\n&\\nabove\\nUpto\\n49,999\\n50,000 \\nto \\n99,999',\n",
       " '50,000 \\nto \\n99,999\\n100,000 \\nto\\n199,999\\n200,000 \\nto\\n499,999\\n500,000 \\nto\\n24,99,999\\n25,00,000 \\n&\\nabove\\nPOS Boundar Conditions\\nPremium Payment Term (PPT)\\n& Policy Term (PT)\\nPremium Payment\\nTerm (Years)\\nPolicy Term (Years)\\nMinimum\\nMaximum\\nSingle Pay \\n5\\n6\\n7\\n8\\n9\\n10\\n11\\n12\\n5\\n10\\n12\\n13\\n14\\n15\\n16\\n17\\n18\\n20\\nAge of the Life Insured at Entr\\n(Age as on last birthday)\\nMinimum\\nMaximum\\nSingle Life: 30 days*\\nJoint Life: 18 years\\n* In case the Life Insured is a minor, the Policy will automatically vest in favour of Life Insured\\na\\x1ber attainment of majority of the Life Insured. For policies issued on minor life, the date of\\ncommencement of risk shall be the date of commencement of the policy.\\n60 years \\nJoint Life and Single Pay Option B : 50 years\\nMaturity Age of the Life Insured\\n(Age as on last birthday)\\n65 years\\nMinimum Annualized Premium\\nSingle Pay: Rs.100,000\\n5 Pay: Rs.20,000\\n6-12 Pay: Rs.30,000\\nMaximum Annualized Premium\\nNo Limit (subject to Board Approved Underwriting Policy)\\nPremium Payment Frequency\\nand Frequency Loadings \\nMode',\n",
       " 'Premium Payment Frequency\\nand Frequency Loadings \\nMode\\nModal Loading\\nAnnual\\nSemi-annual\\nQuarterly\\nMonthly\\n0.0%\\n3.5%\\n5.0%\\n6.0%\\nMaximum Sum Assured on \\nDeath\\nRs. 25,00,000']"
      ]
     },
     "execution_count": 53,
     "metadata": {},
     "output_type": "execute_result"
    }
   ],
   "source": [
    "res"
   ]
  },
  {
   "cell_type": "code",
   "execution_count": 10,
   "metadata": {},
   "outputs": [],
   "source": [
    "text = '''(\"role\": \"system\", \"content\": \"Given the following conversation and a follow up question, rephrase the follow up question to be a standalone question.\n",
    "Response format: REPHRASED QUERY: rephrased query(\"only if New Question semanticaly seems to have some connection with the Old Question\") OR Not a follow-up question(\"if New Question does not seems to have any semantic connection with Old Question\")\n",
    "1. Respond either a comprehensive standalone rephrased question\n",
    "2. Otherwise Respond \"Not a follow-up question\".\n",
    "3. Responses will follow the Response format provided above.\n",
    "4. You will never provide answers to the follow up question.\n",
    "5. You will always rephrase queries in English\n",
    "6. Carefully provide the rephrased question by not missing any relevant details in the given conversation that are needed to answer the follow up question.\n",
    "7. Do not refer by using terms such as 'previous answer' or 'mentioned earlier' in the rephrased question, add all the necessary information needed in the rephrased question itself.\n",
    "8. Refer the below few-shots to understand how to respond:\n",
    "*Few-shot example 1*-\n",
    "Old Question: What are debt funds?\n",
    "Old Answer: It is an investment option.\n",
    "New Question: Hey!\n",
    "Rephrased query: Not a follow-up question\n",
    "*Few-shot example 2*-\n",
    "Old Question: What are debt funds?\n",
    "Old Answer: It is an investment option.\n",
    "New Question: What are it's types?\n",
    "Rephrased query: What are the types of debt funds?\"),\n",
    "(\"role\": \"user\", \"content\": \"Old Question: what is the age of utkarsh\"),\n",
    "(\"role\": \"assistant\", \"content\": \"Old Answer: utkarsh is 23 years old\"),\n",
    "(\"role\": \"user\", \"content\": \"New Question: hello\")'''"
   ]
  },
  {
   "cell_type": "code",
   "execution_count": 11,
   "metadata": {},
   "outputs": [
    {
     "data": {
      "text/plain": [
       "426"
      ]
     },
     "execution_count": 11,
     "metadata": {},
     "output_type": "execute_result"
    }
   ],
   "source": [
    "jina = Jina_embed_v2()\n",
    "\n",
    "res = jina.tokenized_len(text)\n",
    "\n",
    "res"
   ]
  },
  {
   "cell_type": "code",
   "execution_count": null,
   "metadata": {},
   "outputs": [],
   "source": []
  }
 ],
 "metadata": {
  "kernelspec": {
   "display_name": "venv_ct_miner_ml_os",
   "language": "python",
   "name": "python3"
  },
  "language_info": {
   "codemirror_mode": {
    "name": "ipython",
    "version": 3
   },
   "file_extension": ".py",
   "mimetype": "text/x-python",
   "name": "python",
   "nbconvert_exporter": "python",
   "pygments_lexer": "ipython3",
   "version": "3.10.10"
  }
 },
 "nbformat": 4,
 "nbformat_minor": 2
}
